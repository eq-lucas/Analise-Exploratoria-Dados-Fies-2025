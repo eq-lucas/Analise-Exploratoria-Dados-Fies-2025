{
 "cells": [
  {
   "cell_type": "code",
   "execution_count": null,
   "id": "efe4ce90-b0ba-48e1-8c6e-8e82959696d7",
   "metadata": {},
   "outputs": [
    {
     "name": "stdout",
     "output_type": "stream",
     "text": [
      "fies_2_inscricao_2020_limpo.csv antes : 209502\n",
      "fies_2_inscricao_2020_limpo.csv depois: 209502\n",
      "fies_1_inscricao_2020_limpo.csv antes : 539373\n",
      "fies_1_inscricao_2020_limpo.csv depois: 539373\n",
      "fies_1_inscricao_2021_limpo.csv antes : 251018\n",
      "fies_1_inscricao_2021_limpo.csv depois: 251018\n",
      "fies_1_inscricao_2019_limpo.csv antes : 696731\n",
      "fies_1_inscricao_2019_limpo.csv depois: 696731\n"
     ]
    },
    {
     "name": "stderr",
     "output_type": "stream",
     "text": [
      "<ipython-input-1-490cd5c31019>:20: DtypeWarning: Columns (49) have mixed types. Specify dtype option on import or set low_memory=False.\n",
      "  df_limpo= pd.read_csv(caminho)\n"
     ]
    },
    {
     "name": "stdout",
     "output_type": "stream",
     "text": [
      "fies_2_inscricao_2021_limpo.csv antes : 229294\n",
      "fies_2_inscricao_2021_limpo.csv depois: 229294\n",
      "fies_2_inscricao_2019_limpo.csv antes : 271316\n",
      "fies_2_inscricao_2019_limpo.csv depois: 271316\n"
     ]
    }
   ],
   "source": [
    "import pandas as pd\n",
    "import os\n",
    "\n",
    "path='../../../planilhas/limpo/modulo_1/inscricao/'\n",
    "\n",
    "pasta_arquivos= os.listdir(path=path)\n",
    "\n",
    "for arquivo in pasta_arquivos:\n",
    "\n",
    "\n",
    "    if arquivo.endswith('.csv') and 'inscricao' in arquivo:\n",
    "        caminho= os.path.join(path,arquivo)\n",
    "\n",
    "        PK= [\n",
    "            'id_estudante_inscricao',\n",
    "            'opcoes_cursos_inscricao_inscricao'\n",
    "            ]\n",
    "\n",
    "        df_limpo= pd.read_csv(caminho)\n",
    "\n",
    "        qtde_linhas_antes= df_limpo.shape[0]\n",
    "\n",
    "        df_agrupando_por_pk= df_limpo.groupby(by=PK,as_index=False).count()\n",
    "\n",
    "        qtde_linhas_depois= df_agrupando_por_pk.shape[0]\n",
    "        \n",
    "        print(f'{arquivo} antes : {qtde_linhas_antes}')\n",
    "        print(f'{arquivo} depois: {qtde_linhas_depois}')\n",
    "\n",
    "        if qtde_linhas_antes != qtde_linhas_depois:\n",
    "\n",
    "            print('\\nERRO PROVAVEL DUPLICAÇÃO DE LINHA: ')\n",
    "            \n",
    "            filtro= df_limpo.duplicated(subset=df_limpo.columns.to_list(),keep='first')\n",
    "\n",
    "            linhas_duplicadas= df_limpo[filtro].shape[0]\n",
    "\n",
    "            print(f'Total de linhas duplicadas: {linhas_duplicadas}\\n')\n",
    "\n",
    "            if linhas_duplicadas == 0:\n",
    "\n",
    "                print('ERRO PROVAVEL LINHA VAZIA:')\n",
    "\n",
    "                df_sem_linha_vazia= df_limpo.dropna(subset=df_limpo.columns.to_list(),how='all')\n",
    "\n",
    "                qtde_linhas_antes= df_sem_linha_vazia.shape[0]\n",
    "\n",
    "                df_agrupando_por_pk= df_limpo.groupby(by=PK,as_index=False).count()\n",
    "\n",
    "                qtde_linhas_depois= df_agrupando_por_pk.shape[0]\n",
    "\n",
    "                print(f'\\n{arquivo} antes : {qtde_linhas_antes}')\n",
    "                print(f'{arquivo} depois: {qtde_linhas_depois}\\n')\n",
    "\n",
    "                if qtde_linhas_antes == qtde_linhas_depois:\n",
    "\n",
    "                    caminho_saida= os.path.join(path,arquivo)\n",
    "\n",
    "                    df_sem_linha_vazia.to_csv(caminho_saida,index=False,encoding='utf-8-sig')"
   ]
  }
 ],
 "metadata": {
  "language_info": {
   "codemirror_mode": {
    "name": "ipython",
    "version": 3
   },
   "file_extension": ".py",
   "mimetype": "text/x-python",
   "name": "python",
   "nbconvert_exporter": "python",
   "pygments_lexer": "ipython3",
   "version": 3
  }
 },
 "nbformat": 4,
 "nbformat_minor": 2
}
