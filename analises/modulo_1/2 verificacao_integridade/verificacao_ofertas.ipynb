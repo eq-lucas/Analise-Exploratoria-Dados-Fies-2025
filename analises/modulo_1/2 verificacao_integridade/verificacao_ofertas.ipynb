{
 "cells": [
  {
   "cell_type": "code",
   "execution_count": null,
   "id": "291f45ae-e234-4f85-aa43-bdbac1fb3d24",
   "metadata": {},
   "outputs": [
    {
     "name": "stdout",
     "output_type": "stream",
     "text": [
      "fies_1_ofertas_2020_limpo.csv antes : 24667\n",
      "fies_1_ofertas_2020_limpo.csv depois: 24667\n",
      "fies_2_ofertas_2020_limpo.csv antes : 21956\n",
      "fies_2_ofertas_2020_limpo.csv depois: 21956\n",
      "fies_2_ofertas_2019_limpo.csv antes : 22059\n",
      "fies_2_ofertas_2019_limpo.csv depois: 22059\n",
      "fies_2_ofertas_2021_limpo.csv antes : 23320\n",
      "fies_2_ofertas_2021_limpo.csv depois: 23320\n",
      "fies_1_ofertas_2019_limpo.csv antes : 28157\n",
      "fies_1_ofertas_2019_limpo.csv depois: 28157\n",
      "fies_1_ofertas_2021_limpo.csv antes : 23463\n",
      "fies_1_ofertas_2021_limpo.csv depois: 23463\n"
     ]
    }
   ],
   "source": [
    "import pandas as pd\n",
    "import os\n",
    "\n",
    "path='../../../planilhas/limpo/modulo_1/ofertas'\n",
    "\n",
    "pasta_arquivos= os.listdir(path=path)\n",
    "\n",
    "for arquivo in pasta_arquivos:\n",
    "\n",
    "    if arquivo.endswith('.csv') and 'ofertas' in arquivo:\n",
    "        caminho= os.path.join(path,arquivo)\n",
    "\n",
    "        PK = [\n",
    "        'codigo_e_mec_mantenedora_ofertas',\n",
    "        'codigo_local_oferta_ofertas',\n",
    "        'codigo_grupo_preferencia_ofertas',\n",
    "        'codigo_curso_ofertas',\n",
    "        'turno_ofertas',\n",
    "            ]\n",
    "        \n",
    "        df_limpo= pd.read_csv(caminho)\n",
    "\n",
    "        qtde_linhas_antes= df_limpo.shape[0]\n",
    "\n",
    "        df_agrupando_por_pk= df_limpo.groupby(by=PK,as_index=False).count()\n",
    "\n",
    "        qtde_linhas_depois= df_agrupando_por_pk.shape[0]\n",
    "        \n",
    "        print(f'{arquivo} antes : {qtde_linhas_antes}')\n",
    "        print(f'{arquivo} depois: {qtde_linhas_depois}')\n",
    "\n",
    "        if qtde_linhas_antes != qtde_linhas_depois:\n",
    "\n",
    "            print('\\nERRO PROVAVEL DUPLICAÇÃO DE LINHA: ')\n",
    "            \n",
    "            filtro= df_limpo.duplicated(subset=df_limpo.columns.to_list(),keep='first')\n",
    "\n",
    "            linhas_duplicadas= df_limpo[filtro].shape[0]\n",
    "\n",
    "            print(f'Total de linhas duplicadas: {linhas_duplicadas}\\n')\n",
    "\n",
    "            if linhas_duplicadas == 0:\n",
    "\n",
    "                print('ERRO PROVAVEL LINHA VAZIA:')\n",
    "\n",
    "                df_sem_linha_vazia= df_limpo.dropna(subset=df_limpo.columns.to_list(),how='all')\n",
    "\n",
    "                qtde_linhas_antes= df_sem_linha_vazia.shape[0]\n",
    "\n",
    "                df_agrupando_por_pk= df_limpo.groupby(by=PK,as_index=False).count()\n",
    "\n",
    "                qtde_linhas_depois= df_agrupando_por_pk.shape[0]\n",
    "\n",
    "                print(f'\\n{arquivo} antes : {qtde_linhas_antes}')\n",
    "                print(f'{arquivo} depois: {qtde_linhas_depois}\\n')\n",
    "\n",
    "                if qtde_linhas_antes == qtde_linhas_depois:\n",
    "\n",
    "                    caminho_saida= os.path.join(path,arquivo)\n",
    "\n",
    "                    df_sem_linha_vazia.to_csv(caminho_saida,index=False,encoding='utf-8-sig')"
   ]
  }
 ],
 "metadata": {
  "language_info": {
   "codemirror_mode": {
    "name": "ipython",
    "version": 3
   },
   "file_extension": ".py",
   "mimetype": "text/x-python",
   "name": "python",
   "nbconvert_exporter": "python",
   "pygments_lexer": "ipython3",
   "version": 3
  }
 },
 "nbformat": 4,
 "nbformat_minor": 2
}
