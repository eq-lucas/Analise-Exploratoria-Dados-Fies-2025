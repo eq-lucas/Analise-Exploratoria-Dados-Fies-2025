{
 "cells": [
  {
   "cell_type": "code",
   "execution_count": null,
   "id": "a34e1c32-0ff2-4f10-a012-41075068ccbf",
   "metadata": {},
   "outputs": [
    {
     "name": "stdout",
     "output_type": "stream",
     "text": [
      "\n",
      "  Contagem de valores para 'NO_CINE_AREA_GERAL':\n",
      "NO_CINE_AREA_GERAL\n",
      "Negócios, administração e direito                             41022\n",
      "Saúde e bem-estar                                             35923\n",
      "Engenharia, produção e construção                             24154\n",
      "Educação                                                      10724\n",
      "Ciências sociais, comunicação e informação                     9342\n",
      "Computação e Tecnologias da Informação e Comunicação (TIC)     8347\n",
      "Serviços                                                       5169\n",
      "Artes e humanidades                                            4270\n",
      "Agricultura, silvicultura, pesca e veterinária                 3630\n",
      "Ciências naturais, matemática e estatística                    1036\n",
      "NaN                                                               5\n",
      "Name: count, dtype: int64\n",
      "\n",
      "  --- Resumo dos NaNs (para este arquivo) ---\n",
      "  Total de ofertas (linhas): 143622\n",
      "  Total de NaNs (cursos não encontrados): 5\n",
      "  Percentual de NaNs: 0.00%\n",
      "\n",
      "================================================================================\n",
      "--- Análise individual de todos os arquivos concluída. ---\n",
      "================================================================================\n"
     ]
    }
   ],
   "source": [
    "import pandas as pd\n",
    "import os\n",
    "\n",
    "# --- 1. Configuração ---\n",
    "pd.set_option('display.max_rows', None) # Para mostrar todas as áreas\n",
    "pd.set_option('display.max_columns', None)\n",
    "\n",
    "# Caminho para os arquivos que seu script anterior GEROU\n",
    "path_leitura = '../../../planilhas/limpo/modulo_2/ajustar_nan_cine_ofertas/ofertas_agrupado_limpo_CORRIGIDO.csv'\n",
    "\n",
    "# Coluna que você quer analisar\n",
    "coluna_para_analisar = 'NO_CINE_AREA_GERAL' \n",
    "\n",
    "\n",
    "\n",
    "df_temp = pd.read_csv(path_leitura, low_memory=False)\n",
    "                \n",
    "if coluna_para_analisar not in df_temp.columns:\n",
    "    print(f\"  ERRO: A coluna '{coluna_para_analisar}' não foi encontrada neste arquivo!\")\n",
    "    print(f\"  Colunas disponíveis: {df_temp.columns.to_list()}\")\n",
    "else:\n",
    "    # --- 4. Executar o \"Group By + Count\" (com value_counts) ---\n",
    "    print(f\"\\n  Contagem de valores para '{coluna_para_analisar}':\")\n",
    "    \n",
    "    # value_counts(dropna=False) faz o groupby+count, INCLUINDO NaNs\n",
    "    contagem = df_temp[coluna_para_analisar].value_counts(dropna=False)\n",
    "    \n",
    "    # Imprime a contagem\n",
    "    print(contagem)\n",
    "\n",
    "    # --- 5. Resumo explícito dos NaNs para ESTE arquivo ---\n",
    "    print(\"\\n  --- Resumo dos NaNs (para este arquivo) ---\")\n",
    "    \n",
    "    total_linhas = len(df_temp)\n",
    "    total_nans = df_temp[coluna_para_analisar].isnull().sum()\n",
    "    \n",
    "    if total_linhas > 0:\n",
    "        percentual_nans = (total_nans / total_linhas) * 100\n",
    "        print(f\"  Total de ofertas (linhas): {total_linhas}\")\n",
    "        print(f\"  Total de NaNs (cursos não encontrados): {total_nans}\")\n",
    "        print(f\"  Percentual de NaNs: {percentual_nans:.2f}%\")\n",
    "    else:\n",
    "        print(\"  Arquivo está vazio.\")\n",
    "        \n",
    "\n",
    "\n",
    "    print(f\"\\n{'='*80}\")\n",
    "    print(\"--- Análise individual de todos os arquivos concluída. ---\")\n",
    "    print(f\"{'='*80}\")"
   ]
  }
 ],
 "metadata": {
  "language_info": {
   "codemirror_mode": {
    "name": "ipython",
    "version": 3
   },
   "file_extension": ".py",
   "mimetype": "text/x-python",
   "name": "python",
   "nbconvert_exporter": "python",
   "pygments_lexer": "ipython3",
   "version": 3
  }
 },
 "nbformat": 4,
 "nbformat_minor": 2
}
