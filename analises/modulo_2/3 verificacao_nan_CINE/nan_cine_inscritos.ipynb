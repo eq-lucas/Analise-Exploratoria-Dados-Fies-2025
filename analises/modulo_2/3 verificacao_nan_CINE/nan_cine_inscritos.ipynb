{
 "cells": [
  {
   "cell_type": "code",
   "execution_count": null,
   "id": "9488349b-da03-4f4b-a759-0debcfeebdb3",
   "metadata": {},
   "outputs": [
    {
     "name": "stdout",
     "output_type": "stream",
     "text": [
      "\n",
      "  Contagem de valores para 'NO_CINE_AREA_GERAL':\n",
      "NO_CINE_AREA_GERAL\n",
      "Saúde e bem-estar                                             1049914\n",
      "Negócios, administração e direito                              538713\n",
      "Engenharia, produção e construção                              186285\n",
      "Ciências sociais, comunicação e informação                     158921\n",
      "Agricultura, silvicultura, pesca e veterinária                  82811\n",
      "Educação                                                        68044\n",
      "Computação e Tecnologias da Informação e Comunicação (TIC)      54803\n",
      "Serviços                                                        31499\n",
      "Artes e humanidades                                             19009\n",
      "Ciências naturais, matemática e estatística                      7235\n",
      "Name: count, dtype: int64\n",
      "\n",
      "  --- Resumo dos NaNs (para este arquivo) ---\n",
      "  Total de inscritos (linhas): 2197234\n",
      "  Total de NaNs (cursos não encontrados): 0\n",
      "  Percentual de NaNs: 0.00%\n",
      "\n",
      "================================================================================\n",
      "--- Análise individual de todos os arquivos concluída. ---\n",
      "================================================================================\n"
     ]
    }
   ],
   "source": [
    "import pandas as pd\n",
    "import os\n",
    "\n",
    "# --- 1. Configuração ---\n",
    "pd.set_option('display.max_rows', None) # Para mostrar todas as áreas\n",
    "pd.set_option('display.max_columns', None)\n",
    "\n",
    "# Caminho para os arquivos que seu script anterior GEROU\n",
    "path_leitura = '../../../planilhas/limpo/modulo_2/ajustar_nan_cine_inscritos/inscritos_agrupado_limpo_CORRIGIDO.csv'\n",
    "\n",
    "# Coluna que você quer analisar\n",
    "coluna_para_analisar = 'NO_CINE_AREA_GERAL' \n",
    "\n",
    "\n",
    "            \n",
    "# Lê o dataframe individual\n",
    "df_temp = pd.read_csv(path_leitura, low_memory=False)\n",
    "\n",
    "# Verifica se a coluna de análise realmente existe neste arquivo\n",
    "if coluna_para_analisar not in df_temp.columns:\n",
    "    print(f\"  ERRO: A coluna '{coluna_para_analisar}' não foi encontrada neste arquivo!\")\n",
    "    print(f\"  Colunas disponíveis: {df_temp.columns.to_list()}\")\n",
    "else:\n",
    "    # --- 4. Executar o \"Group By + Count\" (com value_counts) ---\n",
    "    print(f\"\\n  Contagem de valores para '{coluna_para_analisar}':\")\n",
    "    \n",
    "    # value_counts(dropna=False) faz o groupby+count, INCLUINDO NaNs\n",
    "    contagem = df_temp[coluna_para_analisar].value_counts(dropna=False)\n",
    "    \n",
    "    # Imprime a contagem\n",
    "    print(contagem)\n",
    "\n",
    "    # --- 5. Resumo explícito dos NaNs para ESTE arquivo ---\n",
    "    print(\"\\n  --- Resumo dos NaNs (para este arquivo) ---\")\n",
    "    \n",
    "    total_linhas = len(df_temp)\n",
    "    total_nans = df_temp[coluna_para_analisar].isnull().sum()\n",
    "    \n",
    "    if total_linhas > 0:\n",
    "        percentual_nans = (total_nans / total_linhas) * 100\n",
    "        print(f\"  Total de inscritos (linhas): {total_linhas}\")\n",
    "        print(f\"  Total de NaNs (cursos não encontrados): {total_nans}\")\n",
    "        print(f\"  Percentual de NaNs: {percentual_nans:.2f}%\")\n",
    "    else:\n",
    "        print(\"  Arquivo está vazio.\")\n",
    "                        \n",
    "\n",
    "print(f\"\\n{'='*80}\")\n",
    "print(\"--- Análise individual de todos os arquivos concluída. ---\")\n",
    "print(f\"{'='*80}\")"
   ]
  }
 ],
 "metadata": {
  "language_info": {
   "codemirror_mode": {
    "name": "ipython",
    "version": 3
   },
   "file_extension": ".py",
   "mimetype": "text/x-python",
   "name": "python",
   "nbconvert_exporter": "python",
   "pygments_lexer": "ipython3",
   "version": 3
  }
 },
 "nbformat": 4,
 "nbformat_minor": 2
}
